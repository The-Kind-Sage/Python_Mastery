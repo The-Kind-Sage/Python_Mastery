{
 "cells": [
  {
   "cell_type": "code",
   "execution_count": 3,
   "id": "f57d26ed-31f2-4439-a3a5-a1d2006e567d",
   "metadata": {},
   "outputs": [
    {
     "name": "stdout",
     "output_type": "stream",
     "text": [
      "Hello World!\n"
     ]
    }
   ],
   "source": [
    "print(\"Hello World!\")"
   ]
  },
  {
   "cell_type": "code",
   "execution_count": 4,
   "id": "cda836a3-677f-41b9-8575-752e1f1123eb",
   "metadata": {},
   "outputs": [],
   "source": [
    "# This is comment to add your own info to coder without affecting code in Python."
   ]
  },
  {
   "cell_type": "code",
   "execution_count": null,
   "id": "c85fa9d6-8696-40c1-92af-db8f459f1120",
   "metadata": {},
   "outputs": [],
   "source": [
    "# Data Types  #\n",
    "\n",
    "a = 2 #int\n",
    "b = 2 #int\n",
    "c = 2.5 #float\n",
    "d = \"*** CALCULATOR ***\" #str\n",
    "e = True #bool\n"
   ]
  },
  {
   "cell_type": "code",
   "execution_count": 8,
   "id": "13248a4e-d5e1-4544-b470-dc90c3f4acd4",
   "metadata": {},
   "outputs": [
    {
     "name": "stdout",
     "output_type": "stream",
     "text": [
      "Sum: 5   Sub: 1   Div 1.5   Mul: 6   Mod: 1   Power: 9   Round Down: 1\n"
     ]
    }
   ],
   "source": [
    "############################################ Operators ############################################ \n",
    "\n",
    "# Arithmatical Operators\n",
    "sum = 3+2\n",
    "sub = 3-2\n",
    "div = 3/2\n",
    "mul = 3*2\n",
    "mod = 3%2\n",
    "power = 3**2\n",
    "round_down= 3//2\n",
    "\n",
    "print(\"Sum:\",sum,\"  Sub:\",sub,\"  Div\",div,\"  Mul:\",mul,\"  Mod:\",mod,\"  Power:\",power,\"  Round Down:\",round_down)\n",
    "\n",
    "#Logical Operators\n",
    "# and, or, not\n",
    "\n",
    "#Assignment Operators\n",
    "# ==, <=,>="
   ]
  },
  {
   "cell_type": "code",
   "execution_count": 18,
   "id": "313b7d2a-dbdd-4789-8314-34e15d2cfcd1",
   "metadata": {},
   "outputs": [
    {
     "name": "stdout",
     "output_type": "stream",
     "text": [
      "Type casting of a to string 3\n",
      "Type casting of a to string 3.4\n"
     ]
    }
   ],
   "source": [
    "#Type Casting\n",
    "a = 3.4\n",
    "b = a  # value transfer to another variable\n",
    "jaat_Change = int(a) # float thyo, int ma convert gareko\n",
    "type_casting = str(b) # float thyo, str ma convert gareko\n",
    "\n",
    "print(\"Type casting of a to string\",jaat_Change)\n",
    "print(\"Type casting of a to string\",type_casting)\n"
   ]
  },
  {
   "cell_type": "code",
   "execution_count": 19,
   "id": "e21934cc-c61d-4707-b0dc-83d039cc1731",
   "metadata": {},
   "outputs": [
    {
     "name": "stdout",
     "output_type": "stream",
     "text": [
      "5656\n"
     ]
    }
   ],
   "source": [
    "# integer and string can not add, they can just concat\n",
    "x = 56\n",
    "y = str(x)\n",
    "print (y+y) "
   ]
  },
  {
   "cell_type": "code",
   "execution_count": 8,
   "id": "d544fd53-e598-4669-ad9e-087f8caa33e0",
   "metadata": {},
   "outputs": [
    {
     "name": "stdout",
     "output_type": "stream",
     "text": [
      " Value of a is 5\n"
     ]
    }
   ],
   "source": [
    "a = 5\n",
    "b = 6\n",
    "if (a != b):\n",
    "    print(\" Value of a is 5\")\n",
    "\n",
    "#Conditional Statements\n",
    "# if , if..else, if..elif..else, nested if\n",
    "    \n",
    "\n",
    "#Loop( Iterrative Statement)\n",
    "# For , While , Break, Switch, Infinite, Nested"
   ]
  },
  {
   "cell_type": "code",
   "execution_count": 20,
   "id": "506e62a3-d614-4124-a08f-0be1796e44a1",
   "metadata": {},
   "outputs": [],
   "source": [
    "# Below are some Practice Questions #"
   ]
  },
  {
   "cell_type": "code",
   "execution_count": 20,
   "id": "d7e40f0a-6f84-42d0-9824-7e642336d709",
   "metadata": {},
   "outputs": [
    {
     "name": "stdout",
     "output_type": "stream",
     "text": [
      "the area of circle is : 3.142857142857143\n"
     ]
    }
   ],
   "source": [
    "#Write a program to calculate the area of a circle.\n",
    "\n",
    "r=1\n",
    "area= (22/7) * (r**2)\n",
    "print(\"the area of circle is :\",area)\n",
    "\n"
   ]
  },
  {
   "cell_type": "code",
   "execution_count": 21,
   "id": "9bcbe066-b1df-4361-9ef0-4dc507dfd7dd",
   "metadata": {},
   "outputs": [
    {
     "name": "stdin",
     "output_type": "stream",
     "text": [
      "Enter Your age 61\n"
     ]
    },
    {
     "name": "stdout",
     "output_type": "stream",
     "text": [
      "Ticket  ticket costs ₹150\n"
     ]
    }
   ],
   "source": [
    "'''Write a Python program that asks the user for their age and prints the price of a movie ticket based on the following rules:\n",
    "- If the user is under 5 years old, the ticket is free.\n",
    "- If the user is between 5 and 12 years old, the ticket costs ₹100.\n",
    "- If the user is between 13 and 60 years old, the ticket costs ₹200.\n",
    "- If the user is over 60 years old, the ticket costs ₹150.\n",
    "'''\n",
    "age = int(input(\"Enter Your age\"))\n",
    "\n",
    "if age < 5: \n",
    "    print(\"Ticket is free\")\n",
    "elif age <=12: \n",
    "    print(\"Ticket  ticket costs ₹100\")\n",
    "elif age <=60: \n",
    "    print (\"Ticket  ticket costs ₹200\")\n",
    "else: \n",
    "    print(\"Ticket  ticket costs ₹150\")\n",
    "\n"
   ]
  },
  {
   "cell_type": "code",
   "execution_count": 31,
   "id": "42f3e083-339d-416a-a920-999b8260a374",
   "metadata": {},
   "outputs": [
    {
     "name": "stdin",
     "output_type": "stream",
     "text": [
      "Enter Your Username admin\n",
      "Enter Your Password 1234\n"
     ]
    },
    {
     "name": "stdout",
     "output_type": "stream",
     "text": [
      "Access Granted \n"
     ]
    }
   ],
   "source": [
    "'''\n",
    "Write a Python program that:\n",
    "- Asks the user to enter their username and password.\n",
    "- Grants access only if:\n",
    "- The username is \"admin\" and\n",
    "- The password is either \"1234\" or \"secure@2025\"\n",
    "- Additionally, deny access if the user enters the username \"guest\", even if the password is correct.\n",
    "Use logical operators and, or, and not effectively to enforce the rules.\n",
    "\n",
    "'''\n",
    "\n",
    "\n",
    "usnm = str(input(\"Enter Your Username\"))\n",
    "passw = str(input(\"Enter Your Password\"))\n",
    "\n",
    "if usnm == \"admin\" and passw == \"1234\" or passw ==\"secure@2025\":\n",
    "    print(\"Access Granted \")\n",
    "else:\n",
    "    print(\"Access Denied\")\n",
    "           \n",
    "\n",
    "\n"
   ]
  },
  {
   "cell_type": "code",
   "execution_count": 37,
   "id": "8c4f4e86-0796-4e8e-9c89-b3c49e9997ec",
   "metadata": {},
   "outputs": [
    {
     "name": "stdin",
     "output_type": "stream",
     "text": [
      "Enter a number 2\n"
     ]
    },
    {
     "name": "stdout",
     "output_type": "stream",
     "text": [
      "The Running total : 2\n"
     ]
    },
    {
     "name": "stdin",
     "output_type": "stream",
     "text": [
      "Enter a number 4\n"
     ]
    },
    {
     "name": "stdout",
     "output_type": "stream",
     "text": [
      "The Running total : 6\n"
     ]
    },
    {
     "name": "stdin",
     "output_type": "stream",
     "text": [
      "Enter a number 5\n"
     ]
    },
    {
     "name": "stdout",
     "output_type": "stream",
     "text": [
      "Odd number entered. Exiting...\n",
      "The total sum is: 6\n"
     ]
    }
   ],
   "source": [
    "'''\n",
    "🔢 Problem: Even Number Collector\n",
    "Write a Python program that:\n",
    "- Keeps asking the user to enter numbers.\n",
    "- If the number is even, it adds it to a running total and prints the updated sum.\n",
    "- If the number is odd, it prints \"Odd number entered. Exiting...\" and stops the loop.\n",
    "'''\n",
    "\n",
    "count = 0\n",
    "while True:\n",
    "    num = int(input(\"Enter a number\"))\n",
    "    if num % 2 == 0:\n",
    "        count = count + num\n",
    "        print(\"The Running total :\",count)\n",
    "    else:\n",
    "        print(\"Odd number entered. Exiting...\")\n",
    "        break\n",
    "\n",
    "print(\"The total sum is:\", count)\n",
    "\n",
    "    \n",
    "    \n"
   ]
  },
  {
   "cell_type": "code",
   "execution_count": 44,
   "id": "f59c4dc1-e1a3-4516-ac1a-64160146eafb",
   "metadata": {},
   "outputs": [
    {
     "name": "stdout",
     "output_type": "stream",
     "text": [
      "the sum is 6\n"
     ]
    }
   ],
   "source": [
    "#Functions in Python\n",
    "\n",
    "def add_num(a,b):\n",
    "    sum = a+b\n",
    "    return sum\n",
    "\n",
    "sum = add_num(2,4)\n",
    "print(\"the sum is\",sum)\n",
    "\n"
   ]
  },
  {
   "cell_type": "code",
   "execution_count": 62,
   "id": "25b45f9d-7548-4079-b3f7-f98f0a44e89d",
   "metadata": {},
   "outputs": [
    {
     "name": "stdin",
     "output_type": "stream",
     "text": [
      "Enter the marks of your subject:  50\n"
     ]
    },
    {
     "name": "stdout",
     "output_type": "stream",
     "text": [
      "Your grade: \n",
      "F\n"
     ]
    }
   ],
   "source": [
    "'''\n",
    "Write a Python function called calculate_grade that:\n",
    "- Takes one parameter: a student’s score (between 0 and 100).\n",
    "- Returns the letter grade based on the following scale:\n",
    "- 90 to 100 → \"A\"\n",
    "- 80 to 89 → \"B\"\n",
    "- 70 to 79 → \"C\"\n",
    "- 60 to 69 → \"D\"\n",
    "- Below 60 → \"F\"\n",
    "'''\n",
    "\n",
    "def calculate_grade(a):\n",
    "    if a<60:\n",
    "        print(\"F\")\n",
    "    elif a >=60 and a <70:\n",
    "        print(\"D\")\n",
    "    elif a >=70 and a <80:\n",
    "        print(\"C\")\n",
    "    elif a >=80 and a <90:\n",
    "        print(\"B\")\n",
    "    elif a >=90 and a <=100:\n",
    "        print(\"A\")\n",
    "\n",
    "# adding user input\n",
    "\n",
    "b= int(input(\"Enter the marks of your subject: \"))\n",
    "print(\"Your grade: \") \n",
    "calculate_grade(b)"
   ]
  },
  {
   "cell_type": "code",
   "execution_count": 79,
   "id": "5ffd1919-d7ed-4a75-9282-c84ff8e5b6bf",
   "metadata": {},
   "outputs": [
    {
     "name": "stdout",
     "output_type": "stream",
     "text": [
      "Hello, Rohit! Welcome!\n",
      "Hello, Rohit! What's up!\n",
      "THE AREA OF RECTANGLE IS: 20\n",
      "THE AREA OF RECTANGLE IS: 40\n"
     ]
    }
   ],
   "source": [
    "'''\n",
    "Default Arguments\n",
    "1. Greeting Bot:\n",
    "Write a function greet_user(name, message=\"Welcome!\") that prints a greeting like \"Hello, Rohit! Welcome!\".\n",
    "- Call the function with just the name.\n",
    "- Then call it with both name and a custom message.\n",
    "2. Area Calculator:\n",
    "Define a function area(length, width=10) that calculates the area of a rectangle.\n",
    "- Let users provide only the length, or both length and width.\n",
    "\n",
    "'''\n",
    "#Qn No.1\n",
    "def greet_user(name, message = \" Welcome!\"):  \n",
    "    print( \"Hello, \"+ name+\"!\"+message)\n",
    "\n",
    "greet_user(\"Rohit\")  #calling with just name\n",
    "greet_user(\"Rohit\",\" What's up!\") #calling with name and message\n",
    "\n",
    "\n",
    "#Qn No.2\n",
    "def area(length, width=10):\n",
    "    return length * width\n",
    "    \n",
    "\n",
    "print(f\"THE AREA OF RECTANGLE IS: { area(2)}\")  #calling with length\n",
    "print(f\"THE AREA OF RECTANGLE IS: { area(2,20)}\")  #calling with length and width\n",
    "\n"
   ]
  },
  {
   "cell_type": "code",
   "execution_count": null,
   "id": "ba3ae2d8-8ef7-4e7d-8603-22c5ae56e1ce",
   "metadata": {},
   "outputs": [],
   "source": [
    "'''\n",
    "🔑 Keyword Arguments\n",
    "1. Profile Builder:\n",
    "Write a function build_profile(name, age, city) and call it using keyword arguments in a different order:\n",
    "build_profile(city=\"Lalitpur\", name=\"Rohit\", age=20)\n",
    "\n",
    "'''\n",
    "\n",
    "#def build_profile(name, age, city):\n",
    "    \n",
    "\n"
   ]
  },
  {
   "cell_type": "code",
   "execution_count": 26,
   "id": "61813ff7-783b-48f9-8b63-117a620a91e6",
   "metadata": {},
   "outputs": [
    {
     "name": "stdout",
     "output_type": "stream",
     "text": [
      "Welcome everyone!\n",
      "\n",
      "Positional users:\n",
      "- Rohit\n",
      "- Raju\n",
      "- Shyam\n",
      "\n",
      "User roles:\n",
      "Rohit is a admin\n",
      "Raju is a moderator\n"
     ]
    }
   ],
   "source": [
    "#Introduction to *args, **kwargs . They can replace another variable or function\n",
    "\n",
    "def greet_users(greeting, *args, **kwargs):\n",
    "    print(greeting)\n",
    "    \n",
    "    print(\"\\nPositional users:\")\n",
    "    for user in args:\n",
    "        print(f\"- {user}\")\n",
    "    \n",
    "    print(\"\\nUser roles:\")\n",
    "    for name, role in kwargs.items():\n",
    "        print(f\"{role} is a {name}\")\n",
    "\n",
    "# Example usage\n",
    "greet_users(\n",
    "    \"Welcome everyone!\",\n",
    "    \"Rohit\", \"Raju\", \"Shyam\",               # *args\n",
    "    admin=\"Rohit\", moderator=\"Raju\"       # **kwargs\n",
    ")\n"
   ]
  },
  {
   "cell_type": "code",
   "execution_count": 29,
   "id": "8f2e1859-eb7e-466c-8325-1bf138c100ea",
   "metadata": {},
   "outputs": [
    {
     "name": "stdin",
     "output_type": "stream",
     "text": [
      "Enter first number:  20\n",
      "Enter second number:  40\n"
     ]
    },
    {
     "name": "stdout",
     "output_type": "stream",
     "text": [
      "The GCD of 20 and 40 is : 20 \n",
      "The LCM of 20 and 40 is : 40 \n"
     ]
    }
   ],
   "source": [
    "\n",
    "################### GCD and LCM functions in Python ####################\n",
    "\n",
    "a = int(input(\"Enter first number: \"))\n",
    "b = int(input(\"Enter second number: \"))\n",
    "\n",
    "def gcd(a,b):\n",
    "    while b:\n",
    "        a,b = b,a%b\n",
    "    return a\n",
    "\n",
    "\n",
    "def lcm(a,b):\n",
    "    lcm_formula = abs(a*b)// gcd(a,b) #abs stands for absolute value it means means like value of  |-5|\n",
    "    return lcm_formula\n",
    "\n",
    "print(f\"The GCD of {a} and {b} is : {gcd(a,b)} \")\n",
    "print(f\"The LCM of {a} and {b} is : {lcm(a,b)} \")\n"
   ]
  },
  {
   "cell_type": "code",
   "execution_count": 39,
   "id": "d2d54429-0c3f-4daa-9df6-c1ae4eaedec1",
   "metadata": {},
   "outputs": [
    {
     "name": "stdout",
     "output_type": "stream",
     "text": [
      "My Honey pie\n"
     ]
    }
   ],
   "source": [
    "#################### FILE HANDELING ####################\n",
    "'''\n",
    "Common Modes:\n",
    "- 'r' – read (default)\n",
    "- 'w' – write (creates new or truncates existing)\n",
    "- 'a' – append\n",
    "\n",
    "'''\n",
    "\n",
    "\n",
    "# Writing to a file\n",
    "with open('file_name.txt','w') as newfile:\n",
    "    newfile.write(\"My Honey pie\")\n",
    "\n",
    "\n",
    "# Reading to a file\n",
    "with open('file_name.txt','r') as newfile:\n",
    "    print(newfile.read())\n",
    "\n",
    "# Tring append mode\n",
    "\n",
    "with open('file_name2.txt','w') as newfile:\n",
    "    newfile.write(\"First Name: Rohit\")\n",
    "\n",
    "with open('file_name2.txt','a') as newfile:\n",
    "    newfile.write(\" Last Name: Chand\")\n"
   ]
  },
  {
   "cell_type": "code",
   "execution_count": null,
   "id": "0c1fc04f-a77d-41f8-ae3b-35f552e60e23",
   "metadata": {},
   "outputs": [],
   "source": []
  }
 ],
 "metadata": {
  "kernelspec": {
   "display_name": "Python [conda env:base] *",
   "language": "python",
   "name": "conda-base-py"
  },
  "language_info": {
   "codemirror_mode": {
    "name": "ipython",
    "version": 3
   },
   "file_extension": ".py",
   "mimetype": "text/x-python",
   "name": "python",
   "nbconvert_exporter": "python",
   "pygments_lexer": "ipython3",
   "version": "3.12.7"
  }
 },
 "nbformat": 4,
 "nbformat_minor": 5
}
