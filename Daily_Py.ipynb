{
 "cells": [
  {
   "cell_type": "code",
   "execution_count": 1,
   "id": "8dc14e7e-6e7a-4c88-8531-08fc20a19f00",
   "metadata": {},
   "outputs": [
    {
     "name": "stdout",
     "output_type": "stream",
     "text": [
      "3.14\n"
     ]
    }
   ],
   "source": [
    "x = 3.14\n",
    "y = int(x)\n",
    "print(x)"
   ]
  },
  {
   "cell_type": "code",
   "execution_count": 2,
   "id": "74aff3d4-2b15-4d36-ba1c-d04edd57ddb9",
   "metadata": {},
   "outputs": [
    {
     "name": "stdout",
     "output_type": "stream",
     "text": [
      "3\n"
     ]
    }
   ],
   "source": [
    "x = 3.14\n",
    "y = int(x)\n",
    "print(y)"
   ]
  },
  {
   "cell_type": "code",
   "execution_count": 3,
   "id": "26579ed7-d039-44bd-ad25-eb6b0360604f",
   "metadata": {},
   "outputs": [
    {
     "ename": "SyntaxError",
     "evalue": "Missing parentheses in call to 'print'. Did you mean print(...)? (3487179942.py, line 3)",
     "output_type": "error",
     "traceback": [
      "\u001b[1;36m  Cell \u001b[1;32mIn[3], line 3\u001b[1;36m\u001b[0m\n\u001b[1;33m    print y\u001b[0m\n\u001b[1;37m    ^\u001b[0m\n\u001b[1;31mSyntaxError\u001b[0m\u001b[1;31m:\u001b[0m Missing parentheses in call to 'print'. Did you mean print(...)?\n"
     ]
    }
   ],
   "source": [
    "x = \"Rohit\"\n",
    "y = int(x)\n",
    "print y"
   ]
  },
  {
   "cell_type": "code",
   "execution_count": 4,
   "id": "d2d70c78-d3c4-4086-8332-edd84ef5d623",
   "metadata": {},
   "outputs": [
    {
     "ename": "ValueError",
     "evalue": "invalid literal for int() with base 10: 'Rohit'",
     "output_type": "error",
     "traceback": [
      "\u001b[1;31m---------------------------------------------------------------------------\u001b[0m",
      "\u001b[1;31mValueError\u001b[0m                                Traceback (most recent call last)",
      "Cell \u001b[1;32mIn[4], line 2\u001b[0m\n\u001b[0;32m      1\u001b[0m x \u001b[38;5;241m=\u001b[39m \u001b[38;5;124m\"\u001b[39m\u001b[38;5;124mRohit\u001b[39m\u001b[38;5;124m\"\u001b[39m\n\u001b[1;32m----> 2\u001b[0m y \u001b[38;5;241m=\u001b[39m \u001b[38;5;28mint\u001b[39m(x)\n\u001b[0;32m      3\u001b[0m \u001b[38;5;28mprint\u001b[39m (y)\n",
      "\u001b[1;31mValueError\u001b[0m: invalid literal for int() with base 10: 'Rohit'"
     ]
    }
   ],
   "source": [
    "x = \"Rohit\"\n",
    "y = int(x)\n",
    "print (y)"
   ]
  },
  {
   "cell_type": "code",
   "execution_count": 6,
   "id": "e21934cc-c61d-4707-b0dc-83d039cc1731",
   "metadata": {},
   "outputs": [
    {
     "name": "stdout",
     "output_type": "stream",
     "text": [
      "5656\n"
     ]
    }
   ],
   "source": [
    "x = 56\n",
    "y = str(x)\n",
    "print (y+y)"
   ]
  },
  {
   "cell_type": "code",
   "execution_count": 1,
   "id": "6b3f2a0c-3e32-4811-9eca-ee96c43c465a",
   "metadata": {},
   "outputs": [
    {
     "name": "stdout",
     "output_type": "stream",
     "text": [
      "15 50 2.0 5 0 100\n"
     ]
    }
   ],
   "source": [
    "a= 10\n",
    "b = 5\n",
    "sum = a+b\n",
    "mul = a*b\n",
    "div = a/b\n",
    "sub = a-b\n",
    "reminder = a%bk\n",
    "power = a**2\n",
    "print(sum, mul, div, sub,reminder, power)\n"
   ]
  },
  {
   "cell_type": "code",
   "execution_count": 8,
   "id": "d544fd53-e598-4669-ad9e-087f8caa33e0",
   "metadata": {},
   "outputs": [
    {
     "name": "stdout",
     "output_type": "stream",
     "text": [
      " Value of a is 5\n"
     ]
    }
   ],
   "source": [
    "a = 5\n",
    "b = 6\n",
    "if (a != b):\n",
    "    print(\" Value of a is 5\")\n",
    "\n",
    "#Conditional Statements\n",
    "# if , if..else, if..elif..else, nested if\n",
    "    \n",
    "\n",
    "#Loop( Iterrative Statement)\n",
    "# For , While , Break, Switch, Infinite, Nested"
   ]
  },
  {
   "cell_type": "code",
   "execution_count": 20,
   "id": "d7e40f0a-6f84-42d0-9824-7e642336d709",
   "metadata": {},
   "outputs": [
    {
     "name": "stdout",
     "output_type": "stream",
     "text": [
      "the area of circle is : 3.142857142857143\n"
     ]
    }
   ],
   "source": [
    "#Write a program to calculate the area of a circle.\n",
    "\n",
    "r=1\n",
    "area= (22/7) * (r**2)\n",
    "print(\"the area of circle is :\",area)\n",
    "\n"
   ]
  },
  {
   "cell_type": "code",
   "execution_count": null,
   "id": "9bcbe066-b1df-4361-9ef0-4dc507dfd7dd",
   "metadata": {},
   "outputs": [],
   "source": []
  }
 ],
 "metadata": {
  "kernelspec": {
   "display_name": "Python [conda env:base] *",
   "language": "python",
   "name": "conda-base-py"
  },
  "language_info": {
   "codemirror_mode": {
    "name": "ipython",
    "version": 3
   },
   "file_extension": ".py",
   "mimetype": "text/x-python",
   "name": "python",
   "nbconvert_exporter": "python",
   "pygments_lexer": "ipython3",
   "version": "3.12.7"
  }
 },
 "nbformat": 4,
 "nbformat_minor": 5
}
